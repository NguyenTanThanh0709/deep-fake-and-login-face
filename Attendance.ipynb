{
 "cells": [
  {
   "cell_type": "code",
   "execution_count": 1,
   "metadata": {},
   "outputs": [],
   "source": [
    "import pickle\n",
    "\n",
    "# Hàm lưu trữ mô hình vào tệp model.pkl\n",
    "def save_model(encoded_face_train, classNames, model_file='model.pkl'):\n",
    "    model_data = {\n",
    "        'encoded_faces': encoded_face_train,\n",
    "        'class_names': classNames\n",
    "    }\n",
    "    \n",
    "    with open(model_file, 'wb') as f:\n",
    "        pickle.dump(model_data, f)\n",
    "    print(f'Model saved as {model_file}')\n"
   ]
  },
  {
   "cell_type": "code",
   "execution_count": 2,
   "metadata": {},
   "outputs": [],
   "source": [
    "def load_model(model_file='model.pkl'):\n",
    "    with open(model_file, 'rb') as f:\n",
    "        model_data = pickle.load(f)\n",
    "    return model_data['encoded_faces'], model_data['class_names']\n"
   ]
  },
  {
   "cell_type": "code",
   "execution_count": 14,
   "metadata": {},
   "outputs": [
    {
     "name": "stdout",
     "output_type": "stream",
     "text": [
      "Model saved as model.pkl\n"
     ]
    }
   ],
   "source": [
    "import os\n",
    "import cv2\n",
    "import face_recognition\n",
    "import numpy as np\n",
    "\n",
    "# Đọc các ảnh và tạo vector khuôn mặt\n",
    "def findEncodings(images):\n",
    "    encodeList = []\n",
    "    \n",
    "    for img in images:\n",
    "        imgRGB = cv2.cvtColor(img, cv2.COLOR_BGR2RGB)\n",
    "\n",
    "        # Resize ảnh để khuôn mặt rõ ràng hơn (điều này có thể giúp cải thiện khả năng nhận diện)\n",
    "        imgRGB = cv2.resize(imgRGB, (0, 0), fx=2, fy=2)  # Phóng to ảnh lên 2 lần\n",
    "        \n",
    "        # Kiểm tra nếu có khuôn mặt nào được phát hiện trong ảnh\n",
    "        face_encodings = face_recognition.face_encodings(imgRGB)\n",
    "        if face_encodings:  # Nếu danh sách không rỗng\n",
    "            encoded_face = face_encodings[0]  # Lấy vector của khuôn mặt đầu tiên\n",
    "            encodeList.append(encoded_face)\n",
    "        else:\n",
    "            print(\"No face found in the image.\")\n",
    "    \n",
    "    return encodeList\n",
    "\n",
    "\n",
    "\n",
    "# Đọc hình ảnh và tạo danh sách tên lớp\n",
    "path = 'Pe'  # Đảm bảo đường dẫn đến thư mục chứa hình ảnh học viên là đúng\n",
    "images = []\n",
    "classNames = []\n",
    "mylist = os.listdir(path)\n",
    "for cl in mylist:\n",
    "    curImg = cv2.imread(f'{path}/{cl}')\n",
    "    images.append(curImg)\n",
    "    classNames.append(os.path.splitext(cl)[0])\n",
    "\n",
    "# Lấy vector đặc trưng và tên lớp\n",
    "encoded_face_train = findEncodings(images)\n",
    "\n",
    "# Lưu mô hình\n",
    "save_model(encoded_face_train, classNames)\n"
   ]
  }
 ],
 "metadata": {
  "kernelspec": {
   "display_name": "base",
   "language": "python",
   "name": "python3"
  },
  "language_info": {
   "codemirror_mode": {
    "name": "ipython",
    "version": 3
   },
   "file_extension": ".py",
   "mimetype": "text/x-python",
   "name": "python",
   "nbconvert_exporter": "python",
   "pygments_lexer": "ipython3",
   "version": "3.12.4"
  }
 },
 "nbformat": 4,
 "nbformat_minor": 2
}
